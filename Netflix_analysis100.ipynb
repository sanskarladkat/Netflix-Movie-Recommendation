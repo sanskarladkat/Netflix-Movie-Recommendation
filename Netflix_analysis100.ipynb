{
 "cells": [
  {
   "cell_type": "markdown",
   "id": "50abb36f",
   "metadata": {},
   "source": [
    "## Netflix Analysis for Moive Recomendation"
   ]
  },
  {
   "cell_type": "code",
   "execution_count": 2,
   "id": "4f83f1d5",
   "metadata": {},
   "outputs": [],
   "source": [
    "import pandas as pd\n",
    "import numpy as np\n",
    "import matplotlib.pyplot as plt\n",
    "import seaborn as sns"
   ]
  },
  {
   "cell_type": "code",
   "execution_count": 3,
   "id": "cd22e526",
   "metadata": {},
   "outputs": [
    {
     "data": {
      "application/vnd.microsoft.datawrangler.viewer.v0+json": {
       "columns": [
        {
         "name": "index",
         "rawType": "int64",
         "type": "integer"
        },
        {
         "name": "Release_Date",
         "rawType": "object",
         "type": "string"
        },
        {
         "name": "Title",
         "rawType": "object",
         "type": "string"
        },
        {
         "name": "Overview",
         "rawType": "object",
         "type": "string"
        },
        {
         "name": "Popularity",
         "rawType": "float64",
         "type": "float"
        },
        {
         "name": "Vote_Count",
         "rawType": "int64",
         "type": "integer"
        },
        {
         "name": "Vote_Average",
         "rawType": "float64",
         "type": "float"
        },
        {
         "name": "Original_Language",
         "rawType": "object",
         "type": "string"
        },
        {
         "name": "Genre",
         "rawType": "object",
         "type": "string"
        },
        {
         "name": "Poster_Url",
         "rawType": "object",
         "type": "string"
        }
       ],
       "conversionMethod": "pd.DataFrame",
       "ref": "126ee617-6f72-4ee1-a657-b638489fbd70",
       "rows": [
        [
         "0",
         "15-12-2021",
         "Spider-Man: No Way Home",
         "Peter Parker is unmasked and no longer able to separate his normal life from the high-stakes of being a super-hero. When he asks for help from Doctor Strange the stakes become even more dangerous, forcing him to discover what it truly means to be Spider-Man.",
         "5083.954",
         "8940",
         "8.3",
         "en",
         "Action, Adventure, Science Fiction",
         "https://image.tmdb.org/t/p/original/1g0dhYtq4irTY1GPXvft6k4YLjm.jpg"
        ],
        [
         "1",
         "01-03-2022",
         "The Batman",
         "In his second year of fighting crime, Batman uncovers corruption in Gotham City that connects to his own family while facing a serial killer known as the Riddler.",
         "3827.658",
         "1151",
         "8.1",
         "en",
         "Crime, Mystery, Thriller",
         "https://image.tmdb.org/t/p/original/74xTEgt7R36Fpooo50r9T25onhq.jpg"
        ],
        [
         "2",
         "25-02-2022",
         "No Exit",
         "Stranded at a rest stop in the mountains during a blizzard, a recovering addict discovers a kidnapped child hidden in a car belonging to one of the people inside the building which sets her on a terrifying struggle to identify who among them is the kidnapper.",
         "2618.087",
         "122",
         "6.3",
         "en",
         "Thriller",
         "https://image.tmdb.org/t/p/original/vDHsLnOWKlPGmWs0kGfuhNF4w5l.jpg"
        ],
        [
         "3",
         "24-11-2021",
         "Encanto",
         "The tale of an extraordinary family, the Madrigals, who live hidden in the mountains of Colombia, in a magical house, in a vibrant town, in a wondrous, charmed place called an Encanto. The magic of the Encanto has blessed every child in the family with a unique gift from super strength to the power to healevery child except one, Mirabel. But when she discovers that the magic surrounding the Encanto is in danger, Mirabel decides that she, the only ordinary Madrigal, might just be her exceptional family's last hope.",
         "2402.201",
         "5076",
         "7.7",
         "en",
         "Animation, Comedy, Family, Fantasy",
         "https://image.tmdb.org/t/p/original/4j0PNHkMr5ax3IA8tjtxcmPU3QT.jpg"
        ],
        [
         "4",
         "22-12-2021",
         "The King's Man",
         "As a collection of history's worst tyrants and criminal masterminds gather to plot a war to wipe out millions, one man must race against time to stop them.",
         "1895.511",
         "1793",
         "7.0",
         "en",
         "Action, Adventure, Thriller, War",
         "https://image.tmdb.org/t/p/original/aq4Pwv5Xeuvj6HZKtxyd23e6bE9.jpg"
        ]
       ],
       "shape": {
        "columns": 9,
        "rows": 5
       }
      },
      "text/html": [
       "<div>\n",
       "<style scoped>\n",
       "    .dataframe tbody tr th:only-of-type {\n",
       "        vertical-align: middle;\n",
       "    }\n",
       "\n",
       "    .dataframe tbody tr th {\n",
       "        vertical-align: top;\n",
       "    }\n",
       "\n",
       "    .dataframe thead th {\n",
       "        text-align: right;\n",
       "    }\n",
       "</style>\n",
       "<table border=\"1\" class=\"dataframe\">\n",
       "  <thead>\n",
       "    <tr style=\"text-align: right;\">\n",
       "      <th></th>\n",
       "      <th>Release_Date</th>\n",
       "      <th>Title</th>\n",
       "      <th>Overview</th>\n",
       "      <th>Popularity</th>\n",
       "      <th>Vote_Count</th>\n",
       "      <th>Vote_Average</th>\n",
       "      <th>Original_Language</th>\n",
       "      <th>Genre</th>\n",
       "      <th>Poster_Url</th>\n",
       "    </tr>\n",
       "  </thead>\n",
       "  <tbody>\n",
       "    <tr>\n",
       "      <th>0</th>\n",
       "      <td>15-12-2021</td>\n",
       "      <td>Spider-Man: No Way Home</td>\n",
       "      <td>Peter Parker is unmasked and no longer able to...</td>\n",
       "      <td>5083.954</td>\n",
       "      <td>8940</td>\n",
       "      <td>8.3</td>\n",
       "      <td>en</td>\n",
       "      <td>Action, Adventure, Science Fiction</td>\n",
       "      <td>https://image.tmdb.org/t/p/original/1g0dhYtq4i...</td>\n",
       "    </tr>\n",
       "    <tr>\n",
       "      <th>1</th>\n",
       "      <td>01-03-2022</td>\n",
       "      <td>The Batman</td>\n",
       "      <td>In his second year of fighting crime, Batman u...</td>\n",
       "      <td>3827.658</td>\n",
       "      <td>1151</td>\n",
       "      <td>8.1</td>\n",
       "      <td>en</td>\n",
       "      <td>Crime, Mystery, Thriller</td>\n",
       "      <td>https://image.tmdb.org/t/p/original/74xTEgt7R3...</td>\n",
       "    </tr>\n",
       "    <tr>\n",
       "      <th>2</th>\n",
       "      <td>25-02-2022</td>\n",
       "      <td>No Exit</td>\n",
       "      <td>Stranded at a rest stop in the mountains durin...</td>\n",
       "      <td>2618.087</td>\n",
       "      <td>122</td>\n",
       "      <td>6.3</td>\n",
       "      <td>en</td>\n",
       "      <td>Thriller</td>\n",
       "      <td>https://image.tmdb.org/t/p/original/vDHsLnOWKl...</td>\n",
       "    </tr>\n",
       "    <tr>\n",
       "      <th>3</th>\n",
       "      <td>24-11-2021</td>\n",
       "      <td>Encanto</td>\n",
       "      <td>The tale of an extraordinary family, the Madri...</td>\n",
       "      <td>2402.201</td>\n",
       "      <td>5076</td>\n",
       "      <td>7.7</td>\n",
       "      <td>en</td>\n",
       "      <td>Animation, Comedy, Family, Fantasy</td>\n",
       "      <td>https://image.tmdb.org/t/p/original/4j0PNHkMr5...</td>\n",
       "    </tr>\n",
       "    <tr>\n",
       "      <th>4</th>\n",
       "      <td>22-12-2021</td>\n",
       "      <td>The King's Man</td>\n",
       "      <td>As a collection of history's worst tyrants and...</td>\n",
       "      <td>1895.511</td>\n",
       "      <td>1793</td>\n",
       "      <td>7.0</td>\n",
       "      <td>en</td>\n",
       "      <td>Action, Adventure, Thriller, War</td>\n",
       "      <td>https://image.tmdb.org/t/p/original/aq4Pwv5Xeu...</td>\n",
       "    </tr>\n",
       "  </tbody>\n",
       "</table>\n",
       "</div>"
      ],
      "text/plain": [
       "  Release_Date                    Title  \\\n",
       "0   15-12-2021  Spider-Man: No Way Home   \n",
       "1   01-03-2022               The Batman   \n",
       "2   25-02-2022                  No Exit   \n",
       "3   24-11-2021                  Encanto   \n",
       "4   22-12-2021           The King's Man   \n",
       "\n",
       "                                            Overview  Popularity  Vote_Count  \\\n",
       "0  Peter Parker is unmasked and no longer able to...    5083.954        8940   \n",
       "1  In his second year of fighting crime, Batman u...    3827.658        1151   \n",
       "2  Stranded at a rest stop in the mountains durin...    2618.087         122   \n",
       "3  The tale of an extraordinary family, the Madri...    2402.201        5076   \n",
       "4  As a collection of history's worst tyrants and...    1895.511        1793   \n",
       "\n",
       "   Vote_Average Original_Language                               Genre  \\\n",
       "0           8.3                en  Action, Adventure, Science Fiction   \n",
       "1           8.1                en            Crime, Mystery, Thriller   \n",
       "2           6.3                en                            Thriller   \n",
       "3           7.7                en  Animation, Comedy, Family, Fantasy   \n",
       "4           7.0                en    Action, Adventure, Thriller, War   \n",
       "\n",
       "                                          Poster_Url  \n",
       "0  https://image.tmdb.org/t/p/original/1g0dhYtq4i...  \n",
       "1  https://image.tmdb.org/t/p/original/74xTEgt7R3...  \n",
       "2  https://image.tmdb.org/t/p/original/vDHsLnOWKl...  \n",
       "3  https://image.tmdb.org/t/p/original/4j0PNHkMr5...  \n",
       "4  https://image.tmdb.org/t/p/original/aq4Pwv5Xeu...  "
      ]
     },
     "execution_count": 3,
     "metadata": {},
     "output_type": "execute_result"
    }
   ],
   "source": [
    "# why this required beacuse in each row having large amount(messy) of data  \n",
    "df = pd.read_csv(r\"D:\\Data_Set\\mymoviedb.csv\", engine='python', encoding='ISO-8859-1', on_bad_lines='skip')  # or we use lineterminator = '\\n'\n",
    "df.head()"
   ]
  },
  {
   "cell_type": "code",
   "execution_count": null,
   "id": "e9284bfd",
   "metadata": {},
   "outputs": [
    {
     "name": "stdout",
     "output_type": "stream",
     "text": [
      "<class 'pandas.core.frame.DataFrame'>\n",
      "RangeIndex: 9826 entries, 0 to 9825\n",
      "Data columns (total 9 columns):\n",
      " #   Column             Non-Null Count  Dtype  \n",
      "---  ------             --------------  -----  \n",
      " 0   Release_Date       9826 non-null   object \n",
      " 1   Title              9826 non-null   object \n",
      " 2   Overview           9826 non-null   object \n",
      " 3   Popularity         9826 non-null   float64\n",
      " 4   Vote_Count         9826 non-null   int64  \n",
      " 5   Vote_Average       9826 non-null   float64\n",
      " 6   Original_Language  9826 non-null   object \n",
      " 7   Genre              9826 non-null   object \n",
      " 8   Poster_Url         9826 non-null   object \n",
      "dtypes: float64(2), int64(1), object(6)\n",
      "memory usage: 691.0+ KB\n"
     ]
    }
   ],
   "source": [
    "# cheaking info of DataSet\n",
    "df.info()"
   ]
  },
  {
   "cell_type": "code",
   "execution_count": null,
   "id": "e5ea5e13",
   "metadata": {},
   "outputs": [
    {
     "data": {
      "text/plain": [
       "0"
      ]
     },
     "execution_count": 4,
     "metadata": {},
     "output_type": "execute_result"
    }
   ],
   "source": [
    "#  checking the any duplicate value present or not \n",
    "df.duplicated().sum()"
   ]
  },
  {
   "cell_type": "code",
   "execution_count": 5,
   "id": "6480cfd9",
   "metadata": {},
   "outputs": [
    {
     "data": {
      "application/vnd.microsoft.datawrangler.viewer.v0+json": {
       "columns": [
        {
         "name": "index",
         "rawType": "object",
         "type": "string"
        },
        {
         "name": "Popularity",
         "rawType": "float64",
         "type": "float"
        },
        {
         "name": "Vote_Count",
         "rawType": "float64",
         "type": "float"
        },
        {
         "name": "Vote_Average",
         "rawType": "float64",
         "type": "float"
        }
       ],
       "conversionMethod": "pd.DataFrame",
       "ref": "9dc6e427-aca7-4d92-8dcc-225fd0b204d5",
       "rows": [
        [
         "count",
         "9826.0",
         "9826.0",
         "9826.0"
        ],
        [
         "mean",
         "40.32867504579686",
         "1392.9018929371057",
         "6.439487075106859"
        ],
        [
         "std",
         "108.8792365587968",
         "2611.3223173385754",
         "1.12980707285293"
        ],
        [
         "min",
         "13.354",
         "0.0",
         "0.0"
        ],
        [
         "25%",
         "16.12925",
         "146.0",
         "5.9"
        ],
        [
         "50%",
         "21.200000000000003",
         "444.0",
         "6.5"
        ],
        [
         "75%",
         "35.19525",
         "1376.0",
         "7.1"
        ],
        [
         "max",
         "5083.954",
         "31077.0",
         "10.0"
        ]
       ],
       "shape": {
        "columns": 3,
        "rows": 8
       }
      },
      "text/html": [
       "<div>\n",
       "<style scoped>\n",
       "    .dataframe tbody tr th:only-of-type {\n",
       "        vertical-align: middle;\n",
       "    }\n",
       "\n",
       "    .dataframe tbody tr th {\n",
       "        vertical-align: top;\n",
       "    }\n",
       "\n",
       "    .dataframe thead th {\n",
       "        text-align: right;\n",
       "    }\n",
       "</style>\n",
       "<table border=\"1\" class=\"dataframe\">\n",
       "  <thead>\n",
       "    <tr style=\"text-align: right;\">\n",
       "      <th></th>\n",
       "      <th>Popularity</th>\n",
       "      <th>Vote_Count</th>\n",
       "      <th>Vote_Average</th>\n",
       "    </tr>\n",
       "  </thead>\n",
       "  <tbody>\n",
       "    <tr>\n",
       "      <th>count</th>\n",
       "      <td>9826.000000</td>\n",
       "      <td>9826.000000</td>\n",
       "      <td>9826.000000</td>\n",
       "    </tr>\n",
       "    <tr>\n",
       "      <th>mean</th>\n",
       "      <td>40.328675</td>\n",
       "      <td>1392.901893</td>\n",
       "      <td>6.439487</td>\n",
       "    </tr>\n",
       "    <tr>\n",
       "      <th>std</th>\n",
       "      <td>108.879237</td>\n",
       "      <td>2611.322317</td>\n",
       "      <td>1.129807</td>\n",
       "    </tr>\n",
       "    <tr>\n",
       "      <th>min</th>\n",
       "      <td>13.354000</td>\n",
       "      <td>0.000000</td>\n",
       "      <td>0.000000</td>\n",
       "    </tr>\n",
       "    <tr>\n",
       "      <th>25%</th>\n",
       "      <td>16.129250</td>\n",
       "      <td>146.000000</td>\n",
       "      <td>5.900000</td>\n",
       "    </tr>\n",
       "    <tr>\n",
       "      <th>50%</th>\n",
       "      <td>21.200000</td>\n",
       "      <td>444.000000</td>\n",
       "      <td>6.500000</td>\n",
       "    </tr>\n",
       "    <tr>\n",
       "      <th>75%</th>\n",
       "      <td>35.195250</td>\n",
       "      <td>1376.000000</td>\n",
       "      <td>7.100000</td>\n",
       "    </tr>\n",
       "    <tr>\n",
       "      <th>max</th>\n",
       "      <td>5083.954000</td>\n",
       "      <td>31077.000000</td>\n",
       "      <td>10.000000</td>\n",
       "    </tr>\n",
       "  </tbody>\n",
       "</table>\n",
       "</div>"
      ],
      "text/plain": [
       "        Popularity    Vote_Count  Vote_Average\n",
       "count  9826.000000   9826.000000   9826.000000\n",
       "mean     40.328675   1392.901893      6.439487\n",
       "std     108.879237   2611.322317      1.129807\n",
       "min      13.354000      0.000000      0.000000\n",
       "25%      16.129250    146.000000      5.900000\n",
       "50%      21.200000    444.000000      6.500000\n",
       "75%      35.195250   1376.000000      7.100000\n",
       "max    5083.954000  31077.000000     10.000000"
      ]
     },
     "execution_count": 5,
     "metadata": {},
     "output_type": "execute_result"
    }
   ],
   "source": [
    "# applying some statistics on numerical columns\n",
    "df.describe()"
   ]
  },
  {
   "cell_type": "markdown",
   "id": "74e39279",
   "metadata": {},
   "source": [
    "# Exploration summary\n",
    "### 1) we have dataframe which consist 9837 Rows and 9 columns\n",
    "### 2) in our dataset no NAN value and no duplicate value\n",
    "### 3) Realese_date column need to transfer into dateTime format\n",
    "### 4) drop the unwanted columns from dataset like 'Overview', 'Original_Language', 'Poster_Url'\n",
    "### 5) Genre column has coma seprated value and while spaces need to be handle casted into category"
   ]
  },
  {
   "cell_type": "code",
   "execution_count": 6,
   "id": "27a14ba9",
   "metadata": {},
   "outputs": [
    {
     "name": "stdout",
     "output_type": "stream",
     "text": [
      "datetime64[ns]\n"
     ]
    }
   ],
   "source": [
    "#1) coverting string DATE into DateTime Format\n",
    "df['Release_Date'] = pd.to_datetime(df['Release_Date'], errors='coerce',dayfirst=True)\n",
    "print(df['Release_Date'].dtype)"
   ]
  },
  {
   "cell_type": "code",
   "execution_count": 7,
   "id": "b0503047",
   "metadata": {},
   "outputs": [
    {
     "name": "stdout",
     "output_type": "stream",
     "text": [
      "int32\n"
     ]
    }
   ],
   "source": [
    "# We required only year for analysis so take only YEAR\n",
    "df['Release_Date'] = df['Release_Date'].dt.year\n",
    "print(df['Release_Date'].dtype)"
   ]
  },
  {
   "cell_type": "code",
   "execution_count": 8,
   "id": "16ba7560",
   "metadata": {},
   "outputs": [
    {
     "data": {
      "application/vnd.microsoft.datawrangler.viewer.v0+json": {
       "columns": [
        {
         "name": "index",
         "rawType": "int64",
         "type": "integer"
        },
        {
         "name": "Release_Date",
         "rawType": "int32",
         "type": "integer"
        },
        {
         "name": "Title",
         "rawType": "object",
         "type": "string"
        },
        {
         "name": "Popularity",
         "rawType": "float64",
         "type": "float"
        },
        {
         "name": "Vote_Count",
         "rawType": "int64",
         "type": "integer"
        },
        {
         "name": "Vote_Average",
         "rawType": "float64",
         "type": "float"
        },
        {
         "name": "Genre",
         "rawType": "object",
         "type": "string"
        }
       ],
       "conversionMethod": "pd.DataFrame",
       "ref": "ea47cb6e-89ae-4856-92fb-f03c54557bec",
       "rows": [
        [
         "0",
         "2021",
         "Spider-Man: No Way Home",
         "5083.954",
         "8940",
         "8.3",
         "Action, Adventure, Science Fiction"
        ],
        [
         "1",
         "2022",
         "The Batman",
         "3827.658",
         "1151",
         "8.1",
         "Crime, Mystery, Thriller"
        ],
        [
         "2",
         "2022",
         "No Exit",
         "2618.087",
         "122",
         "6.3",
         "Thriller"
        ],
        [
         "3",
         "2021",
         "Encanto",
         "2402.201",
         "5076",
         "7.7",
         "Animation, Comedy, Family, Fantasy"
        ],
        [
         "4",
         "2021",
         "The King's Man",
         "1895.511",
         "1793",
         "7.0",
         "Action, Adventure, Thriller, War"
        ],
        [
         "5",
         "2022",
         "The Commando",
         "1750.484",
         "33",
         "6.6",
         "Action, Crime, Thriller"
        ],
        [
         "6",
         "2022",
         "Scream",
         "1675.161",
         "821",
         "6.8",
         "Horror, Mystery, Thriller"
        ],
        [
         "7",
         "2022",
         "Kimi",
         "1601.782",
         "206",
         "6.3",
         "Thriller"
        ],
        [
         "8",
         "2022",
         "Fistful of Vengeance",
         "1594.013",
         "114",
         "5.3",
         "Action, Crime, Fantasy"
        ],
        [
         "9",
         "2021",
         "Eternals",
         "1537.406",
         "4726",
         "7.2",
         "Science Fiction"
        ],
        [
         "10",
         "2022",
         "Pursuit",
         "1500.523",
         "16",
         "5.9",
         "Action, Crime, Thriller"
        ],
        [
         "11",
         "2021",
         "My Hero Academia: World Heroes' Mission",
         "1485.064",
         "100",
         "7.3",
         "Animation, Action, Fantasy, Adventure"
        ],
        [
         "12",
         "2022",
         "Restless",
         "1468.377",
         "107",
         "5.9",
         "Action, Thriller, Crime"
        ],
        [
         "13",
         "2021",
         "Nightmare Alley",
         "1455.144",
         "952",
         "7.1",
         "Crime, Drama, Thriller"
        ],
        [
         "14",
         "2022",
         "The Ice Age Adventures of Buck Wild",
         "1431.307",
         "737",
         "7.1",
         "Animation, Comedy, Adventure, Family"
        ],
        [
         "15",
         "2022",
         "Hotel Transylvania: Transformania",
         "1373.778",
         "288",
         "7.0",
         "Animation, Family, Fantasy, Comedy, Adventure"
        ],
        [
         "16",
         "2022",
         "Texas Chainsaw Massacre",
         "1312.79",
         "521",
         "5.1",
         "Horror"
        ],
        [
         "17",
         "2022",
         "The Requin",
         "1252.317",
         "65",
         "4.6",
         "Thriller"
        ],
        [
         "18",
         "2022",
         "Looop Lapeta",
         "1240.946",
         "31",
         "6.0",
         "Action, Comedy, Crime"
        ],
        [
         "19",
         "2021",
         "Red Notice",
         "1178.544",
         "3193",
         "6.8",
         "Action, Comedy, Crime, Thriller"
        ],
        [
         "20",
         "2021",
         "Sing 2",
         "1112.9",
         "2172",
         "8.2",
         "Animation, Comedy, Family, Music"
        ],
        [
         "21",
         "2022",
         "The Jack in the Box: Awakening",
         "1096.79",
         "43",
         "5.4",
         "Horror"
        ],
        [
         "22",
         "2021",
         "Venom: Let There Be Carnage",
         "1053.615",
         "6539",
         "7.1",
         "Science Fiction, Action, Adventure"
        ],
        [
         "23",
         "2021",
         "The Matrix Resurrections",
         "941.024",
         "3160",
         "6.8",
         "Science Fiction, Action, Adventure"
        ],
        [
         "24",
         "2021",
         "Resident Evil: Welcome to Raccoon City",
         "881.086",
         "1312",
         "6.1",
         "Horror, Action, Science Fiction"
        ],
        [
         "25",
         "2021",
         "Last Man Down",
         "869.605",
         "318",
         "6.3",
         "Action, Thriller"
        ],
        [
         "26",
         "2022",
         "American Siege",
         "867.326",
         "49",
         "5.4",
         "Action, Thriller, Crime, Drama"
        ],
        [
         "27",
         "2022",
         "Uncharted",
         "866.391",
         "691",
         "7.1",
         "Action, Adventure"
        ],
        [
         "28",
         "2020",
         "Demon Slayer -Kimetsu no Yaiba- The Movie: Mugen Train",
         "845.992",
         "2224",
         "8.4",
         "Animation, Action, Adventure, Fantasy"
        ],
        [
         "29",
         "2021",
         "Ghostbusters: Afterlife",
         "839.904",
         "2225",
         "7.7",
         "Fantasy, Comedy, Adventure"
        ],
        [
         "30",
         "2022",
         "The 355",
         "781.748",
         "313",
         "6.1",
         "Action, Thriller"
        ],
        [
         "31",
         "2021",
         "Shang-Chi and the Legend of the Ten Rings",
         "769.185",
         "5845",
         "7.7",
         "Action, Adventure, Fantasy"
        ],
        [
         "32",
         "2022",
         "Marry Me",
         "761.793",
         "230",
         "6.9",
         "Romance, Comedy, Music"
        ],
        [
         "33",
         "2022",
         "The Hunting",
         "761.127",
         "10",
         "5.8",
         "Horror"
        ],
        [
         "34",
         "2021",
         "West Side Story",
         "678.186",
         "562",
         "7.4",
         "Drama, Romance, Crime"
        ],
        [
         "35",
         "2022",
         "Through My Window",
         "659.105",
         "1331",
         "7.8",
         "Romance, Drama"
        ],
        [
         "36",
         "2021",
         "The Seven Deadly Sins: Cursed by Light",
         "647.54",
         "312",
         "8.0",
         "Animation, Fantasy"
        ],
        [
         "37",
         "2021",
         "One Shot",
         "622.24",
         "382",
         "6.8",
         "Action"
        ],
        [
         "38",
         "2022",
         "Tom and Jerry: Cowboy Up!",
         "614.11",
         "163",
         "7.1",
         "Animation, Comedy, Family, Western"
        ],
        [
         "39",
         "2020",
         "Chernobyl: Abyss",
         "601.958",
         "314",
         "6.2",
         "Drama, History, Adventure"
        ],
        [
         "40",
         "2022",
         "Desperate Riders",
         "590.474",
         "10",
         "6.8",
         "Western, Action"
        ],
        [
         "41",
         "2021",
         "Clifford the Big Red Dog",
         "585.011",
         "1100",
         "7.3",
         "Family, Adventure, Comedy, Fantasy"
        ],
        [
         "42",
         "2022",
         "Tyler Perry's A Madea Homecoming",
         "577.591",
         "42",
         "6.7",
         "Comedy"
        ],
        [
         "43",
         "2021",
         "The Boss Baby: Family Business",
         "567.421",
         "1785",
         "7.6",
         "Animation, Comedy, Adventure, Family"
        ],
        [
         "44",
         "2022",
         "Turning Red",
         "564.507",
         "8",
         "8.6",
         "Animation, Family, Comedy, Fantasy"
        ],
        [
         "45",
         "2022",
         "Brazen",
         "553.141",
         "211",
         "4.8",
         "Thriller, Mystery, Drama"
        ],
        [
         "46",
         "2022",
         "The House",
         "551.65",
         "432",
         "7.1",
         "Animation, Drama, Comedy, Horror"
        ],
        [
         "47",
         "2022",
         "Blacklight",
         "533.903",
         "88",
         "5.1",
         "Action, Thriller"
        ],
        [
         "48",
         "2021",
         "Ron's Gone Wrong",
         "509.277",
         "1000",
         "8.1",
         "Animation, Science Fiction, Family, Comedy"
        ],
        [
         "49",
         "2021",
         "Free Guy",
         "447.872",
         "5158",
         "7.7",
         "Comedy, Action, Adventure, Science Fiction"
        ]
       ],
       "shape": {
        "columns": 6,
        "rows": 9826
       }
      },
      "text/html": [
       "<div>\n",
       "<style scoped>\n",
       "    .dataframe tbody tr th:only-of-type {\n",
       "        vertical-align: middle;\n",
       "    }\n",
       "\n",
       "    .dataframe tbody tr th {\n",
       "        vertical-align: top;\n",
       "    }\n",
       "\n",
       "    .dataframe thead th {\n",
       "        text-align: right;\n",
       "    }\n",
       "</style>\n",
       "<table border=\"1\" class=\"dataframe\">\n",
       "  <thead>\n",
       "    <tr style=\"text-align: right;\">\n",
       "      <th></th>\n",
       "      <th>Release_Date</th>\n",
       "      <th>Title</th>\n",
       "      <th>Popularity</th>\n",
       "      <th>Vote_Count</th>\n",
       "      <th>Vote_Average</th>\n",
       "      <th>Genre</th>\n",
       "    </tr>\n",
       "  </thead>\n",
       "  <tbody>\n",
       "    <tr>\n",
       "      <th>0</th>\n",
       "      <td>2021</td>\n",
       "      <td>Spider-Man: No Way Home</td>\n",
       "      <td>5083.954</td>\n",
       "      <td>8940</td>\n",
       "      <td>8.3</td>\n",
       "      <td>Action, Adventure, Science Fiction</td>\n",
       "    </tr>\n",
       "    <tr>\n",
       "      <th>1</th>\n",
       "      <td>2022</td>\n",
       "      <td>The Batman</td>\n",
       "      <td>3827.658</td>\n",
       "      <td>1151</td>\n",
       "      <td>8.1</td>\n",
       "      <td>Crime, Mystery, Thriller</td>\n",
       "    </tr>\n",
       "    <tr>\n",
       "      <th>2</th>\n",
       "      <td>2022</td>\n",
       "      <td>No Exit</td>\n",
       "      <td>2618.087</td>\n",
       "      <td>122</td>\n",
       "      <td>6.3</td>\n",
       "      <td>Thriller</td>\n",
       "    </tr>\n",
       "    <tr>\n",
       "      <th>3</th>\n",
       "      <td>2021</td>\n",
       "      <td>Encanto</td>\n",
       "      <td>2402.201</td>\n",
       "      <td>5076</td>\n",
       "      <td>7.7</td>\n",
       "      <td>Animation, Comedy, Family, Fantasy</td>\n",
       "    </tr>\n",
       "    <tr>\n",
       "      <th>4</th>\n",
       "      <td>2021</td>\n",
       "      <td>The King's Man</td>\n",
       "      <td>1895.511</td>\n",
       "      <td>1793</td>\n",
       "      <td>7.0</td>\n",
       "      <td>Action, Adventure, Thriller, War</td>\n",
       "    </tr>\n",
       "    <tr>\n",
       "      <th>...</th>\n",
       "      <td>...</td>\n",
       "      <td>...</td>\n",
       "      <td>...</td>\n",
       "      <td>...</td>\n",
       "      <td>...</td>\n",
       "      <td>...</td>\n",
       "    </tr>\n",
       "    <tr>\n",
       "      <th>9821</th>\n",
       "      <td>1973</td>\n",
       "      <td>Badlands</td>\n",
       "      <td>13.357</td>\n",
       "      <td>896</td>\n",
       "      <td>7.6</td>\n",
       "      <td>Drama, Crime</td>\n",
       "    </tr>\n",
       "    <tr>\n",
       "      <th>9822</th>\n",
       "      <td>2020</td>\n",
       "      <td>Violent Delights</td>\n",
       "      <td>13.356</td>\n",
       "      <td>8</td>\n",
       "      <td>3.5</td>\n",
       "      <td>Horror</td>\n",
       "    </tr>\n",
       "    <tr>\n",
       "      <th>9823</th>\n",
       "      <td>2016</td>\n",
       "      <td>The Offering</td>\n",
       "      <td>13.355</td>\n",
       "      <td>94</td>\n",
       "      <td>5.0</td>\n",
       "      <td>Mystery, Thriller, Horror</td>\n",
       "    </tr>\n",
       "    <tr>\n",
       "      <th>9824</th>\n",
       "      <td>2021</td>\n",
       "      <td>The United States vs. Billie Holiday</td>\n",
       "      <td>13.354</td>\n",
       "      <td>152</td>\n",
       "      <td>6.7</td>\n",
       "      <td>Music, Drama, History</td>\n",
       "    </tr>\n",
       "    <tr>\n",
       "      <th>9825</th>\n",
       "      <td>1984</td>\n",
       "      <td>Threads</td>\n",
       "      <td>13.354</td>\n",
       "      <td>186</td>\n",
       "      <td>7.8</td>\n",
       "      <td>War, Drama, Science Fiction</td>\n",
       "    </tr>\n",
       "  </tbody>\n",
       "</table>\n",
       "<p>9826 rows × 6 columns</p>\n",
       "</div>"
      ],
      "text/plain": [
       "      Release_Date                                 Title  Popularity  \\\n",
       "0             2021               Spider-Man: No Way Home    5083.954   \n",
       "1             2022                            The Batman    3827.658   \n",
       "2             2022                               No Exit    2618.087   \n",
       "3             2021                               Encanto    2402.201   \n",
       "4             2021                        The King's Man    1895.511   \n",
       "...            ...                                   ...         ...   \n",
       "9821          1973                              Badlands      13.357   \n",
       "9822          2020                      Violent Delights      13.356   \n",
       "9823          2016                          The Offering      13.355   \n",
       "9824          2021  The United States vs. Billie Holiday      13.354   \n",
       "9825          1984                               Threads      13.354   \n",
       "\n",
       "      Vote_Count  Vote_Average                               Genre  \n",
       "0           8940           8.3  Action, Adventure, Science Fiction  \n",
       "1           1151           8.1            Crime, Mystery, Thriller  \n",
       "2            122           6.3                            Thriller  \n",
       "3           5076           7.7  Animation, Comedy, Family, Fantasy  \n",
       "4           1793           7.0    Action, Adventure, Thriller, War  \n",
       "...          ...           ...                                 ...  \n",
       "9821         896           7.6                        Drama, Crime  \n",
       "9822           8           3.5                              Horror  \n",
       "9823          94           5.0           Mystery, Thriller, Horror  \n",
       "9824         152           6.7               Music, Drama, History  \n",
       "9825         186           7.8         War, Drama, Science Fiction  \n",
       "\n",
       "[9826 rows x 6 columns]"
      ]
     },
     "execution_count": 8,
     "metadata": {},
     "output_type": "execute_result"
    }
   ],
   "source": [
    "# Droping the column which are not required for analysis \n",
    "df.drop(columns=['Overview', 'Original_Language', 'Poster_Url'],inplace=True)\n",
    "df"
   ]
  },
  {
   "cell_type": "markdown",
   "id": "6d609c61",
   "metadata": {},
   "source": [
    "### Categorising the vote_average \n",
    "### We need tocut vote_average column into  four categories\n",
    "### Popular, Average, Below_Average, Not_Popular"
   ]
  },
  {
   "cell_type": "code",
   "execution_count": 9,
   "id": "f7fa25b4",
   "metadata": {},
   "outputs": [],
   "source": [
    "# Function for categories\n",
    "def catigorize_col(df, col, labels):\n",
    "    edge  =[df[col].describe()['min'],\n",
    "            df[col].describe()['25%'],\n",
    "            df[col].describe()['50%'],\n",
    "            df[col].describe()['75%'],\n",
    "            df[col].describe()['max']]\n",
    "    df[col] = pd.cut(df[col], edge, labels = labels)\n",
    "    return df    "
   ]
  },
  {
   "cell_type": "code",
   "execution_count": 10,
   "id": "0a2151f7",
   "metadata": {},
   "outputs": [
    {
     "data": {
      "application/vnd.microsoft.datawrangler.viewer.v0+json": {
       "columns": [
        {
         "name": "index",
         "rawType": "int64",
         "type": "integer"
        },
        {
         "name": "Release_Date",
         "rawType": "int32",
         "type": "integer"
        },
        {
         "name": "Title",
         "rawType": "object",
         "type": "string"
        },
        {
         "name": "Popularity",
         "rawType": "float64",
         "type": "float"
        },
        {
         "name": "Vote_Count",
         "rawType": "int64",
         "type": "integer"
        },
        {
         "name": "Vote_Average",
         "rawType": "category",
         "type": "unknown"
        },
        {
         "name": "Genre",
         "rawType": "object",
         "type": "string"
        }
       ],
       "conversionMethod": "pd.DataFrame",
       "ref": "99e28e59-b6a4-4ec7-920f-28655d9d7247",
       "rows": [
        [
         "0",
         "2021",
         "Spider-Man: No Way Home",
         "5083.954",
         "8940",
         "Popular",
         "Action, Adventure, Science Fiction"
        ],
        [
         "1",
         "2022",
         "The Batman",
         "3827.658",
         "1151",
         "Popular",
         "Crime, Mystery, Thriller"
        ],
        [
         "2",
         "2022",
         "No Exit",
         "2618.087",
         "122",
         "Below_Avg",
         "Thriller"
        ],
        [
         "3",
         "2021",
         "Encanto",
         "2402.201",
         "5076",
         "Popular",
         "Animation, Comedy, Family, Fantasy"
        ],
        [
         "4",
         "2021",
         "The King's Man",
         "1895.511",
         "1793",
         "Average",
         "Action, Adventure, Thriller, War"
        ],
        [
         "5",
         "2022",
         "The Commando",
         "1750.484",
         "33",
         "Average",
         "Action, Crime, Thriller"
        ],
        [
         "6",
         "2022",
         "Scream",
         "1675.161",
         "821",
         "Average",
         "Horror, Mystery, Thriller"
        ],
        [
         "7",
         "2022",
         "Kimi",
         "1601.782",
         "206",
         "Below_Avg",
         "Thriller"
        ],
        [
         "8",
         "2022",
         "Fistful of Vengeance",
         "1594.013",
         "114",
         "Not_Popular",
         "Action, Crime, Fantasy"
        ],
        [
         "9",
         "2021",
         "Eternals",
         "1537.406",
         "4726",
         "Popular",
         "Science Fiction"
        ],
        [
         "10",
         "2022",
         "Pursuit",
         "1500.523",
         "16",
         "Not_Popular",
         "Action, Crime, Thriller"
        ],
        [
         "11",
         "2021",
         "My Hero Academia: World Heroes' Mission",
         "1485.064",
         "100",
         "Popular",
         "Animation, Action, Fantasy, Adventure"
        ],
        [
         "12",
         "2022",
         "Restless",
         "1468.377",
         "107",
         "Not_Popular",
         "Action, Thriller, Crime"
        ],
        [
         "13",
         "2021",
         "Nightmare Alley",
         "1455.144",
         "952",
         "Average",
         "Crime, Drama, Thriller"
        ],
        [
         "14",
         "2022",
         "The Ice Age Adventures of Buck Wild",
         "1431.307",
         "737",
         "Average",
         "Animation, Comedy, Adventure, Family"
        ],
        [
         "15",
         "2022",
         "Hotel Transylvania: Transformania",
         "1373.778",
         "288",
         "Average",
         "Animation, Family, Fantasy, Comedy, Adventure"
        ],
        [
         "16",
         "2022",
         "Texas Chainsaw Massacre",
         "1312.79",
         "521",
         "Not_Popular",
         "Horror"
        ],
        [
         "17",
         "2022",
         "The Requin",
         "1252.317",
         "65",
         "Not_Popular",
         "Thriller"
        ],
        [
         "18",
         "2022",
         "Looop Lapeta",
         "1240.946",
         "31",
         "Below_Avg",
         "Action, Comedy, Crime"
        ],
        [
         "19",
         "2021",
         "Red Notice",
         "1178.544",
         "3193",
         "Average",
         "Action, Comedy, Crime, Thriller"
        ],
        [
         "20",
         "2021",
         "Sing 2",
         "1112.9",
         "2172",
         "Popular",
         "Animation, Comedy, Family, Music"
        ],
        [
         "21",
         "2022",
         "The Jack in the Box: Awakening",
         "1096.79",
         "43",
         "Not_Popular",
         "Horror"
        ],
        [
         "22",
         "2021",
         "Venom: Let There Be Carnage",
         "1053.615",
         "6539",
         "Average",
         "Science Fiction, Action, Adventure"
        ],
        [
         "23",
         "2021",
         "The Matrix Resurrections",
         "941.024",
         "3160",
         "Average",
         "Science Fiction, Action, Adventure"
        ],
        [
         "24",
         "2021",
         "Resident Evil: Welcome to Raccoon City",
         "881.086",
         "1312",
         "Below_Avg",
         "Horror, Action, Science Fiction"
        ],
        [
         "25",
         "2021",
         "Last Man Down",
         "869.605",
         "318",
         "Below_Avg",
         "Action, Thriller"
        ],
        [
         "26",
         "2022",
         "American Siege",
         "867.326",
         "49",
         "Not_Popular",
         "Action, Thriller, Crime, Drama"
        ],
        [
         "27",
         "2022",
         "Uncharted",
         "866.391",
         "691",
         "Average",
         "Action, Adventure"
        ],
        [
         "28",
         "2020",
         "Demon Slayer -Kimetsu no Yaiba- The Movie: Mugen Train",
         "845.992",
         "2224",
         "Popular",
         "Animation, Action, Adventure, Fantasy"
        ],
        [
         "29",
         "2021",
         "Ghostbusters: Afterlife",
         "839.904",
         "2225",
         "Popular",
         "Fantasy, Comedy, Adventure"
        ],
        [
         "30",
         "2022",
         "The 355",
         "781.748",
         "313",
         "Below_Avg",
         "Action, Thriller"
        ],
        [
         "31",
         "2021",
         "Shang-Chi and the Legend of the Ten Rings",
         "769.185",
         "5845",
         "Popular",
         "Action, Adventure, Fantasy"
        ],
        [
         "32",
         "2022",
         "Marry Me",
         "761.793",
         "230",
         "Average",
         "Romance, Comedy, Music"
        ],
        [
         "33",
         "2022",
         "The Hunting",
         "761.127",
         "10",
         "Not_Popular",
         "Horror"
        ],
        [
         "34",
         "2021",
         "West Side Story",
         "678.186",
         "562",
         "Popular",
         "Drama, Romance, Crime"
        ],
        [
         "35",
         "2022",
         "Through My Window",
         "659.105",
         "1331",
         "Popular",
         "Romance, Drama"
        ],
        [
         "36",
         "2021",
         "The Seven Deadly Sins: Cursed by Light",
         "647.54",
         "312",
         "Popular",
         "Animation, Fantasy"
        ],
        [
         "37",
         "2021",
         "One Shot",
         "622.24",
         "382",
         "Average",
         "Action"
        ],
        [
         "38",
         "2022",
         "Tom and Jerry: Cowboy Up!",
         "614.11",
         "163",
         "Average",
         "Animation, Comedy, Family, Western"
        ],
        [
         "39",
         "2020",
         "Chernobyl: Abyss",
         "601.958",
         "314",
         "Below_Avg",
         "Drama, History, Adventure"
        ],
        [
         "40",
         "2022",
         "Desperate Riders",
         "590.474",
         "10",
         "Average",
         "Western, Action"
        ],
        [
         "41",
         "2021",
         "Clifford the Big Red Dog",
         "585.011",
         "1100",
         "Popular",
         "Family, Adventure, Comedy, Fantasy"
        ],
        [
         "42",
         "2022",
         "Tyler Perry's A Madea Homecoming",
         "577.591",
         "42",
         "Average",
         "Comedy"
        ],
        [
         "43",
         "2021",
         "The Boss Baby: Family Business",
         "567.421",
         "1785",
         "Popular",
         "Animation, Comedy, Adventure, Family"
        ],
        [
         "44",
         "2022",
         "Turning Red",
         "564.507",
         "8",
         "Popular",
         "Animation, Family, Comedy, Fantasy"
        ],
        [
         "45",
         "2022",
         "Brazen",
         "553.141",
         "211",
         "Not_Popular",
         "Thriller, Mystery, Drama"
        ],
        [
         "46",
         "2022",
         "The House",
         "551.65",
         "432",
         "Average",
         "Animation, Drama, Comedy, Horror"
        ],
        [
         "47",
         "2022",
         "Blacklight",
         "533.903",
         "88",
         "Not_Popular",
         "Action, Thriller"
        ],
        [
         "48",
         "2021",
         "Ron's Gone Wrong",
         "509.277",
         "1000",
         "Popular",
         "Animation, Science Fiction, Family, Comedy"
        ],
        [
         "49",
         "2021",
         "Free Guy",
         "447.872",
         "5158",
         "Popular",
         "Comedy, Action, Adventure, Science Fiction"
        ]
       ],
       "shape": {
        "columns": 6,
        "rows": 9826
       }
      },
      "text/html": [
       "<div>\n",
       "<style scoped>\n",
       "    .dataframe tbody tr th:only-of-type {\n",
       "        vertical-align: middle;\n",
       "    }\n",
       "\n",
       "    .dataframe tbody tr th {\n",
       "        vertical-align: top;\n",
       "    }\n",
       "\n",
       "    .dataframe thead th {\n",
       "        text-align: right;\n",
       "    }\n",
       "</style>\n",
       "<table border=\"1\" class=\"dataframe\">\n",
       "  <thead>\n",
       "    <tr style=\"text-align: right;\">\n",
       "      <th></th>\n",
       "      <th>Release_Date</th>\n",
       "      <th>Title</th>\n",
       "      <th>Popularity</th>\n",
       "      <th>Vote_Count</th>\n",
       "      <th>Vote_Average</th>\n",
       "      <th>Genre</th>\n",
       "    </tr>\n",
       "  </thead>\n",
       "  <tbody>\n",
       "    <tr>\n",
       "      <th>0</th>\n",
       "      <td>2021</td>\n",
       "      <td>Spider-Man: No Way Home</td>\n",
       "      <td>5083.954</td>\n",
       "      <td>8940</td>\n",
       "      <td>Popular</td>\n",
       "      <td>Action, Adventure, Science Fiction</td>\n",
       "    </tr>\n",
       "    <tr>\n",
       "      <th>1</th>\n",
       "      <td>2022</td>\n",
       "      <td>The Batman</td>\n",
       "      <td>3827.658</td>\n",
       "      <td>1151</td>\n",
       "      <td>Popular</td>\n",
       "      <td>Crime, Mystery, Thriller</td>\n",
       "    </tr>\n",
       "    <tr>\n",
       "      <th>2</th>\n",
       "      <td>2022</td>\n",
       "      <td>No Exit</td>\n",
       "      <td>2618.087</td>\n",
       "      <td>122</td>\n",
       "      <td>Below_Avg</td>\n",
       "      <td>Thriller</td>\n",
       "    </tr>\n",
       "    <tr>\n",
       "      <th>3</th>\n",
       "      <td>2021</td>\n",
       "      <td>Encanto</td>\n",
       "      <td>2402.201</td>\n",
       "      <td>5076</td>\n",
       "      <td>Popular</td>\n",
       "      <td>Animation, Comedy, Family, Fantasy</td>\n",
       "    </tr>\n",
       "    <tr>\n",
       "      <th>4</th>\n",
       "      <td>2021</td>\n",
       "      <td>The King's Man</td>\n",
       "      <td>1895.511</td>\n",
       "      <td>1793</td>\n",
       "      <td>Average</td>\n",
       "      <td>Action, Adventure, Thriller, War</td>\n",
       "    </tr>\n",
       "    <tr>\n",
       "      <th>...</th>\n",
       "      <td>...</td>\n",
       "      <td>...</td>\n",
       "      <td>...</td>\n",
       "      <td>...</td>\n",
       "      <td>...</td>\n",
       "      <td>...</td>\n",
       "    </tr>\n",
       "    <tr>\n",
       "      <th>9821</th>\n",
       "      <td>1973</td>\n",
       "      <td>Badlands</td>\n",
       "      <td>13.357</td>\n",
       "      <td>896</td>\n",
       "      <td>Popular</td>\n",
       "      <td>Drama, Crime</td>\n",
       "    </tr>\n",
       "    <tr>\n",
       "      <th>9822</th>\n",
       "      <td>2020</td>\n",
       "      <td>Violent Delights</td>\n",
       "      <td>13.356</td>\n",
       "      <td>8</td>\n",
       "      <td>Not_Popular</td>\n",
       "      <td>Horror</td>\n",
       "    </tr>\n",
       "    <tr>\n",
       "      <th>9823</th>\n",
       "      <td>2016</td>\n",
       "      <td>The Offering</td>\n",
       "      <td>13.355</td>\n",
       "      <td>94</td>\n",
       "      <td>Not_Popular</td>\n",
       "      <td>Mystery, Thriller, Horror</td>\n",
       "    </tr>\n",
       "    <tr>\n",
       "      <th>9824</th>\n",
       "      <td>2021</td>\n",
       "      <td>The United States vs. Billie Holiday</td>\n",
       "      <td>13.354</td>\n",
       "      <td>152</td>\n",
       "      <td>Average</td>\n",
       "      <td>Music, Drama, History</td>\n",
       "    </tr>\n",
       "    <tr>\n",
       "      <th>9825</th>\n",
       "      <td>1984</td>\n",
       "      <td>Threads</td>\n",
       "      <td>13.354</td>\n",
       "      <td>186</td>\n",
       "      <td>Popular</td>\n",
       "      <td>War, Drama, Science Fiction</td>\n",
       "    </tr>\n",
       "  </tbody>\n",
       "</table>\n",
       "<p>9826 rows × 6 columns</p>\n",
       "</div>"
      ],
      "text/plain": [
       "      Release_Date                                 Title  Popularity  \\\n",
       "0             2021               Spider-Man: No Way Home    5083.954   \n",
       "1             2022                            The Batman    3827.658   \n",
       "2             2022                               No Exit    2618.087   \n",
       "3             2021                               Encanto    2402.201   \n",
       "4             2021                        The King's Man    1895.511   \n",
       "...            ...                                   ...         ...   \n",
       "9821          1973                              Badlands      13.357   \n",
       "9822          2020                      Violent Delights      13.356   \n",
       "9823          2016                          The Offering      13.355   \n",
       "9824          2021  The United States vs. Billie Holiday      13.354   \n",
       "9825          1984                               Threads      13.354   \n",
       "\n",
       "      Vote_Count Vote_Average                               Genre  \n",
       "0           8940      Popular  Action, Adventure, Science Fiction  \n",
       "1           1151      Popular            Crime, Mystery, Thriller  \n",
       "2            122    Below_Avg                            Thriller  \n",
       "3           5076      Popular  Animation, Comedy, Family, Fantasy  \n",
       "4           1793      Average    Action, Adventure, Thriller, War  \n",
       "...          ...          ...                                 ...  \n",
       "9821         896      Popular                        Drama, Crime  \n",
       "9822           8  Not_Popular                              Horror  \n",
       "9823          94  Not_Popular           Mystery, Thriller, Horror  \n",
       "9824         152      Average               Music, Drama, History  \n",
       "9825         186      Popular         War, Drama, Science Fiction  \n",
       "\n",
       "[9826 rows x 6 columns]"
      ]
     },
     "execution_count": 10,
     "metadata": {},
     "output_type": "execute_result"
    }
   ],
   "source": [
    "# Categorizing the value\n",
    "labels = ['Not_Popular', 'Below_Avg', 'Average', 'Popular']\n",
    "\n",
    "catigorize_col(df, 'Vote_Average', labels)"
   ]
  },
  {
   "cell_type": "code",
   "execution_count": 11,
   "id": "8ca8fa01",
   "metadata": {},
   "outputs": [
    {
     "data": {
      "text/plain": [
       "Vote_Average\n",
       "Not_Popular    2467\n",
       "Popular        2450\n",
       "Average        2411\n",
       "Below_Avg      2398\n",
       "Name: count, dtype: int64"
      ]
     },
     "execution_count": 11,
     "metadata": {},
     "output_type": "execute_result"
    }
   ],
   "source": [
    "# Cheacking Categorical Count\n",
    "df['Vote_Average'].value_counts()"
   ]
  },
  {
   "cell_type": "code",
   "execution_count": 12,
   "id": "9aa4a084",
   "metadata": {},
   "outputs": [
    {
     "data": {
      "text/plain": [
       "Release_Date    0\n",
       "Title           0\n",
       "Popularity      0\n",
       "Vote_Count      0\n",
       "Vote_Average    0\n",
       "Genre           0\n",
       "dtype: int64"
      ]
     },
     "execution_count": 12,
     "metadata": {},
     "output_type": "execute_result"
    }
   ],
   "source": [
    "# Droping Duplicate value and checking is null present or not \n",
    "df.dropna(inplace=True)\n",
    "df.isna().sum()"
   ]
  },
  {
   "cell_type": "markdown",
   "id": "6dc59653",
   "metadata": {},
   "source": [
    "### Now spliting Genre Column into a list and explore your dataframe to have only one genre per row for each moive"
   ]
  },
  {
   "cell_type": "code",
   "execution_count": 14,
   "id": "f5517a03",
   "metadata": {},
   "outputs": [
    {
     "data": {
      "application/vnd.microsoft.datawrangler.viewer.v0+json": {
       "columns": [
        {
         "name": "index",
         "rawType": "int64",
         "type": "integer"
        },
        {
         "name": "Release_Date",
         "rawType": "int32",
         "type": "integer"
        },
        {
         "name": "Title",
         "rawType": "object",
         "type": "string"
        },
        {
         "name": "Popularity",
         "rawType": "float64",
         "type": "float"
        },
        {
         "name": "Vote_Count",
         "rawType": "int64",
         "type": "integer"
        },
        {
         "name": "Vote_Average",
         "rawType": "category",
         "type": "unknown"
        },
        {
         "name": "Genre",
         "rawType": "object",
         "type": "string"
        }
       ],
       "conversionMethod": "pd.DataFrame",
       "ref": "72339226-2dfb-41ec-8eb3-059a17ceca05",
       "rows": [
        [
         "0",
         "2021",
         "Spider-Man: No Way Home",
         "5083.954",
         "8940",
         "Popular",
         "Action"
        ],
        [
         "1",
         "2021",
         "Spider-Man: No Way Home",
         "5083.954",
         "8940",
         "Popular",
         "Adventure"
        ],
        [
         "2",
         "2021",
         "Spider-Man: No Way Home",
         "5083.954",
         "8940",
         "Popular",
         "Science Fiction"
        ],
        [
         "3",
         "2022",
         "The Batman",
         "3827.658",
         "1151",
         "Popular",
         "Crime"
        ],
        [
         "4",
         "2022",
         "The Batman",
         "3827.658",
         "1151",
         "Popular",
         "Mystery"
        ]
       ],
       "shape": {
        "columns": 6,
        "rows": 5
       }
      },
      "text/html": [
       "<div>\n",
       "<style scoped>\n",
       "    .dataframe tbody tr th:only-of-type {\n",
       "        vertical-align: middle;\n",
       "    }\n",
       "\n",
       "    .dataframe tbody tr th {\n",
       "        vertical-align: top;\n",
       "    }\n",
       "\n",
       "    .dataframe thead th {\n",
       "        text-align: right;\n",
       "    }\n",
       "</style>\n",
       "<table border=\"1\" class=\"dataframe\">\n",
       "  <thead>\n",
       "    <tr style=\"text-align: right;\">\n",
       "      <th></th>\n",
       "      <th>Release_Date</th>\n",
       "      <th>Title</th>\n",
       "      <th>Popularity</th>\n",
       "      <th>Vote_Count</th>\n",
       "      <th>Vote_Average</th>\n",
       "      <th>Genre</th>\n",
       "    </tr>\n",
       "  </thead>\n",
       "  <tbody>\n",
       "    <tr>\n",
       "      <th>0</th>\n",
       "      <td>2021</td>\n",
       "      <td>Spider-Man: No Way Home</td>\n",
       "      <td>5083.954</td>\n",
       "      <td>8940</td>\n",
       "      <td>Popular</td>\n",
       "      <td>Action</td>\n",
       "    </tr>\n",
       "    <tr>\n",
       "      <th>1</th>\n",
       "      <td>2021</td>\n",
       "      <td>Spider-Man: No Way Home</td>\n",
       "      <td>5083.954</td>\n",
       "      <td>8940</td>\n",
       "      <td>Popular</td>\n",
       "      <td>Adventure</td>\n",
       "    </tr>\n",
       "    <tr>\n",
       "      <th>2</th>\n",
       "      <td>2021</td>\n",
       "      <td>Spider-Man: No Way Home</td>\n",
       "      <td>5083.954</td>\n",
       "      <td>8940</td>\n",
       "      <td>Popular</td>\n",
       "      <td>Science Fiction</td>\n",
       "    </tr>\n",
       "    <tr>\n",
       "      <th>3</th>\n",
       "      <td>2022</td>\n",
       "      <td>The Batman</td>\n",
       "      <td>3827.658</td>\n",
       "      <td>1151</td>\n",
       "      <td>Popular</td>\n",
       "      <td>Crime</td>\n",
       "    </tr>\n",
       "    <tr>\n",
       "      <th>4</th>\n",
       "      <td>2022</td>\n",
       "      <td>The Batman</td>\n",
       "      <td>3827.658</td>\n",
       "      <td>1151</td>\n",
       "      <td>Popular</td>\n",
       "      <td>Mystery</td>\n",
       "    </tr>\n",
       "  </tbody>\n",
       "</table>\n",
       "</div>"
      ],
      "text/plain": [
       "   Release_Date                    Title  Popularity  Vote_Count Vote_Average  \\\n",
       "0          2021  Spider-Man: No Way Home    5083.954        8940      Popular   \n",
       "1          2021  Spider-Man: No Way Home    5083.954        8940      Popular   \n",
       "2          2021  Spider-Man: No Way Home    5083.954        8940      Popular   \n",
       "3          2022               The Batman    3827.658        1151      Popular   \n",
       "4          2022               The Batman    3827.658        1151      Popular   \n",
       "\n",
       "             Genre  \n",
       "0           Action  \n",
       "1        Adventure  \n",
       "2  Science Fiction  \n",
       "3            Crime  \n",
       "4          Mystery  "
      ]
     },
     "execution_count": 14,
     "metadata": {},
     "output_type": "execute_result"
    }
   ],
   "source": [
    "#  Spliting the Column\n",
    "df['Genre'] = df['Genre'].str.split(', ')\n",
    "df = df.explode('Genre').reset_index(drop=True)\n",
    "df.head()"
   ]
  },
  {
   "cell_type": "code",
   "execution_count": null,
   "id": "0f7825ff",
   "metadata": {},
   "outputs": [
    {
     "data": {
      "text/plain": [
       "CategoricalDtype(categories=['Action', 'Adventure', 'Animation', 'Comedy', 'Crime',\n",
       "                  'Documentary', 'Drama', 'Family', 'Fantasy', 'History',\n",
       "                  'Horror', 'Music', 'Mystery', 'Romance', 'Science Fiction',\n",
       "                  'TV Movie', 'Thriller', 'War', 'Western'],\n",
       ", ordered=False, categories_dtype=object)"
      ]
     },
     "execution_count": 129,
     "metadata": {},
     "output_type": "execute_result"
    }
   ],
   "source": [
    "# Casting column into category\n",
    "df['Genre']= df['Genre'].astype('category')\n",
    "df['Genre'].dtype"
   ]
  },
  {
   "cell_type": "code",
   "execution_count": 131,
   "id": "7aa610b7",
   "metadata": {},
   "outputs": [
    {
     "name": "stdout",
     "output_type": "stream",
     "text": [
      "<class 'pandas.core.frame.DataFrame'>\n",
      "RangeIndex: 25547 entries, 0 to 25546\n",
      "Data columns (total 6 columns):\n",
      " #   Column        Non-Null Count  Dtype   \n",
      "---  ------        --------------  -----   \n",
      " 0   Release_Date  25547 non-null  int32   \n",
      " 1   Title         25547 non-null  object  \n",
      " 2   Popularity    25547 non-null  float64 \n",
      " 3   Vote_Count    25547 non-null  int64   \n",
      " 4   Vote_Average  25547 non-null  category\n",
      " 5   Genre         25547 non-null  category\n",
      "dtypes: category(2), float64(1), int32(1), int64(1), object(1)\n",
      "memory usage: 749.5+ KB\n"
     ]
    }
   ],
   "source": [
    "df.info()"
   ]
  },
  {
   "cell_type": "code",
   "execution_count": 15,
   "id": "b1a4ffb9",
   "metadata": {},
   "outputs": [
    {
     "data": {
      "text/plain": [
       "Release_Date     100\n",
       "Title           9414\n",
       "Popularity      8087\n",
       "Vote_Count      3265\n",
       "Vote_Average       4\n",
       "Genre             19\n",
       "dtype: int64"
      ]
     },
     "execution_count": 15,
     "metadata": {},
     "output_type": "execute_result"
    }
   ],
   "source": [
    "# Cheking the how much value are unique \n",
    "df.nunique()"
   ]
  },
  {
   "cell_type": "markdown",
   "id": "a946c8e1",
   "metadata": {},
   "source": [
    "# Q1 What is most frequent Genre of moive released on Netflix"
   ]
  },
  {
   "cell_type": "code",
   "execution_count": null,
   "id": "1a6f36a4",
   "metadata": {},
   "outputs": [
    {
     "data": {
      "text/plain": [
       "count     25547\n",
       "unique       19\n",
       "top       Drama\n",
       "freq       3714\n",
       "Name: Genre, dtype: object"
      ]
     },
     "execution_count": 16,
     "metadata": {},
     "output_type": "execute_result"
    }
   ],
   "source": [
    "# giving information about spesific column\n",
    "df['Genre'].describe()"
   ]
  },
  {
   "cell_type": "code",
   "execution_count": 17,
   "id": "b319b32a",
   "metadata": {},
   "outputs": [],
   "source": [
    "sns.set_style('whitegrid')"
   ]
  },
  {
   "cell_type": "code",
   "execution_count": null,
   "id": "63f5bb3a",
   "metadata": {},
   "outputs": [
    {
     "data": {
      "image/png": "[encoded data removed]",
      "text/plain": [
       "<Figure size 511.111x500 with 1 Axes>"
      ]
     },
     "metadata": {},
     "output_type": "display_data"
    }
   ],
   "source": [
    "# Categorical Plot to check most frequent Genre of Moive\n",
    "sns.catplot(data=df, y='Genre', kind='count',\n",
    "            order=df['Genre'].value_counts().index,\n",
    "            color='#4287f5')\n",
    "\n",
    "plt.title('Genre Column Distribution')\n",
    "plt.xlabel('Count')\n",
    "plt.ylabel('Genre')\n",
    "plt.tight_layout()\n",
    "plt.show()"
   ]
  },
  {
   "cell_type": "markdown",
   "id": "c068eb75",
   "metadata": {},
   "source": [
    "### Conclusion: DRAMA Genre is most frequent Genre in our DataSet has appeared more than 14% of 19 genre"
   ]
  },
  {
   "cell_type": "markdown",
   "id": "ce66a922",
   "metadata": {},
   "source": [
    "# Q2 Which genre has highest votes "
   ]
  },
  {
   "cell_type": "code",
   "execution_count": null,
   "id": "289676d8",
   "metadata": {},
   "outputs": [
    {
     "data": {
      "image/png": "[encoded data removed]",
      "text/plain": [
       "<Figure size 511.111x500 with 1 Axes>"
      ]
     },
     "metadata": {},
     "output_type": "display_data"
    }
   ],
   "source": [
    "# Checking which genre has high votes\n",
    "sns.catplot(data=df, y='Vote_Average', kind='count',\n",
    "            order=df['Vote_Average'].value_counts().index,\n",
    "            color='#4287f5')\n",
    "\n",
    "plt.title('Vote_Average Column Distribution')\n",
    "plt.xlabel('Count')\n",
    "plt.ylabel('Vote_Average')\n",
    "plt.tight_layout()\n",
    "plt.show()"
   ]
  },
  {
   "cell_type": "markdown",
   "id": "b1812eb9",
   "metadata": {},
   "source": [
    "### We have 25.5% of our dataset with popular votes Drama Again get highest popularity among fan by bieng having more than 18.5% moive popularation "
   ]
  },
  {
   "cell_type": "markdown",
   "id": "973e0286",
   "metadata": {},
   "source": [
    "# Q3 Which moive get highest popularity  and what`s its genre"
   ]
  },
  {
   "cell_type": "code",
   "execution_count": 148,
   "id": "fc1bce4c",
   "metadata": {},
   "outputs": [
    {
     "data": {
      "application/vnd.microsoft.datawrangler.viewer.v0+json": {
       "columns": [
        {
         "name": "index",
         "rawType": "int64",
         "type": "integer"
        },
        {
         "name": "Release_Date",
         "rawType": "int32",
         "type": "integer"
        },
        {
         "name": "Title",
         "rawType": "object",
         "type": "string"
        },
        {
         "name": "Popularity",
         "rawType": "float64",
         "type": "float"
        },
        {
         "name": "Vote_Count",
         "rawType": "int64",
         "type": "integer"
        },
        {
         "name": "Vote_Average",
         "rawType": "category",
         "type": "unknown"
        },
        {
         "name": "Genre",
         "rawType": "category",
         "type": "unknown"
        }
       ],
       "conversionMethod": "pd.DataFrame",
       "ref": "2c315c7b-6e06-46bb-a2c1-410012917ce7",
       "rows": [
        [
         "0",
         "2021",
         "Spider-Man: No Way Home",
         "5083.954",
         "8940",
         "popular",
         "Action"
        ],
        [
         "1",
         "2021",
         "Spider-Man: No Way Home",
         "5083.954",
         "8940",
         "popular",
         "Adventure"
        ],
        [
         "2",
         "2021",
         "Spider-Man: No Way Home",
         "5083.954",
         "8940",
         "popular",
         "Science Fiction"
        ]
       ],
       "shape": {
        "columns": 6,
        "rows": 3
       }
      },
      "text/html": [
       "<div>\n",
       "<style scoped>\n",
       "    .dataframe tbody tr th:only-of-type {\n",
       "        vertical-align: middle;\n",
       "    }\n",
       "\n",
       "    .dataframe tbody tr th {\n",
       "        vertical-align: top;\n",
       "    }\n",
       "\n",
       "    .dataframe thead th {\n",
       "        text-align: right;\n",
       "    }\n",
       "</style>\n",
       "<table border=\"1\" class=\"dataframe\">\n",
       "  <thead>\n",
       "    <tr style=\"text-align: right;\">\n",
       "      <th></th>\n",
       "      <th>Release_Date</th>\n",
       "      <th>Title</th>\n",
       "      <th>Popularity</th>\n",
       "      <th>Vote_Count</th>\n",
       "      <th>Vote_Average</th>\n",
       "      <th>Genre</th>\n",
       "    </tr>\n",
       "  </thead>\n",
       "  <tbody>\n",
       "    <tr>\n",
       "      <th>0</th>\n",
       "      <td>2021</td>\n",
       "      <td>Spider-Man: No Way Home</td>\n",
       "      <td>5083.954</td>\n",
       "      <td>8940</td>\n",
       "      <td>popular</td>\n",
       "      <td>Action</td>\n",
       "    </tr>\n",
       "    <tr>\n",
       "      <th>1</th>\n",
       "      <td>2021</td>\n",
       "      <td>Spider-Man: No Way Home</td>\n",
       "      <td>5083.954</td>\n",
       "      <td>8940</td>\n",
       "      <td>popular</td>\n",
       "      <td>Adventure</td>\n",
       "    </tr>\n",
       "    <tr>\n",
       "      <th>2</th>\n",
       "      <td>2021</td>\n",
       "      <td>Spider-Man: No Way Home</td>\n",
       "      <td>5083.954</td>\n",
       "      <td>8940</td>\n",
       "      <td>popular</td>\n",
       "      <td>Science Fiction</td>\n",
       "    </tr>\n",
       "  </tbody>\n",
       "</table>\n",
       "</div>"
      ],
      "text/plain": [
       "   Release_Date                    Title  Popularity  Vote_Count Vote_Average  \\\n",
       "0          2021  Spider-Man: No Way Home    5083.954        8940      popular   \n",
       "1          2021  Spider-Man: No Way Home    5083.954        8940      popular   \n",
       "2          2021  Spider-Man: No Way Home    5083.954        8940      popular   \n",
       "\n",
       "             Genre  \n",
       "0           Action  \n",
       "1        Adventure  \n",
       "2  Science Fiction  "
      ]
     },
     "execution_count": 148,
     "metadata": {},
     "output_type": "execute_result"
    }
   ],
   "source": [
    "df[df['Popularity'] == df['Popularity'].max()]"
   ]
  },
  {
   "cell_type": "markdown",
   "id": "af72e29b",
   "metadata": {},
   "source": [
    "### Spider-Man: No Way Home has the highest popularity rate in our dataset and it has genres of Action Adventure and Sience Fiction ."
   ]
  },
  {
   "cell_type": "markdown",
   "id": "4f1a00d0",
   "metadata": {},
   "source": [
    "# Q4 Which moive got lowest popularity what is it`s genre"
   ]
  },
  {
   "cell_type": "code",
   "execution_count": 149,
   "id": "cb9d7922",
   "metadata": {},
   "outputs": [
    {
     "data": {
      "application/vnd.microsoft.datawrangler.viewer.v0+json": {
       "columns": [
        {
         "name": "index",
         "rawType": "int64",
         "type": "integer"
        },
        {
         "name": "Release_Date",
         "rawType": "int32",
         "type": "integer"
        },
        {
         "name": "Title",
         "rawType": "object",
         "type": "string"
        },
        {
         "name": "Popularity",
         "rawType": "float64",
         "type": "float"
        },
        {
         "name": "Vote_Count",
         "rawType": "int64",
         "type": "integer"
        },
        {
         "name": "Vote_Average",
         "rawType": "category",
         "type": "unknown"
        },
        {
         "name": "Genre",
         "rawType": "category",
         "type": "unknown"
        }
       ],
       "conversionMethod": "pd.DataFrame",
       "ref": "716153ce-54af-4b86-b4cf-b781b7378184",
       "rows": [
        [
         "25541",
         "2021",
         "The United States vs. Billie Holiday",
         "13.354",
         "152",
         "average",
         "Music"
        ],
        [
         "25542",
         "2021",
         "The United States vs. Billie Holiday",
         "13.354",
         "152",
         "average",
         "Drama"
        ],
        [
         "25543",
         "2021",
         "The United States vs. Billie Holiday",
         "13.354",
         "152",
         "average",
         "History"
        ],
        [
         "25544",
         "1984",
         "Threads",
         "13.354",
         "186",
         "popular",
         "War"
        ],
        [
         "25545",
         "1984",
         "Threads",
         "13.354",
         "186",
         "popular",
         "Drama"
        ],
        [
         "25546",
         "1984",
         "Threads",
         "13.354",
         "186",
         "popular",
         "Science Fiction"
        ]
       ],
       "shape": {
        "columns": 6,
        "rows": 6
       }
      },
      "text/html": [
       "<div>\n",
       "<style scoped>\n",
       "    .dataframe tbody tr th:only-of-type {\n",
       "        vertical-align: middle;\n",
       "    }\n",
       "\n",
       "    .dataframe tbody tr th {\n",
       "        vertical-align: top;\n",
       "    }\n",
       "\n",
       "    .dataframe thead th {\n",
       "        text-align: right;\n",
       "    }\n",
       "</style>\n",
       "<table border=\"1\" class=\"dataframe\">\n",
       "  <thead>\n",
       "    <tr style=\"text-align: right;\">\n",
       "      <th></th>\n",
       "      <th>Release_Date</th>\n",
       "      <th>Title</th>\n",
       "      <th>Popularity</th>\n",
       "      <th>Vote_Count</th>\n",
       "      <th>Vote_Average</th>\n",
       "      <th>Genre</th>\n",
       "    </tr>\n",
       "  </thead>\n",
       "  <tbody>\n",
       "    <tr>\n",
       "      <th>25541</th>\n",
       "      <td>2021</td>\n",
       "      <td>The United States vs. Billie Holiday</td>\n",
       "      <td>13.354</td>\n",
       "      <td>152</td>\n",
       "      <td>average</td>\n",
       "      <td>Music</td>\n",
       "    </tr>\n",
       "    <tr>\n",
       "      <th>25542</th>\n",
       "      <td>2021</td>\n",
       "      <td>The United States vs. Billie Holiday</td>\n",
       "      <td>13.354</td>\n",
       "      <td>152</td>\n",
       "      <td>average</td>\n",
       "      <td>Drama</td>\n",
       "    </tr>\n",
       "    <tr>\n",
       "      <th>25543</th>\n",
       "      <td>2021</td>\n",
       "      <td>The United States vs. Billie Holiday</td>\n",
       "      <td>13.354</td>\n",
       "      <td>152</td>\n",
       "      <td>average</td>\n",
       "      <td>History</td>\n",
       "    </tr>\n",
       "    <tr>\n",
       "      <th>25544</th>\n",
       "      <td>1984</td>\n",
       "      <td>Threads</td>\n",
       "      <td>13.354</td>\n",
       "      <td>186</td>\n",
       "      <td>popular</td>\n",
       "      <td>War</td>\n",
       "    </tr>\n",
       "    <tr>\n",
       "      <th>25545</th>\n",
       "      <td>1984</td>\n",
       "      <td>Threads</td>\n",
       "      <td>13.354</td>\n",
       "      <td>186</td>\n",
       "      <td>popular</td>\n",
       "      <td>Drama</td>\n",
       "    </tr>\n",
       "    <tr>\n",
       "      <th>25546</th>\n",
       "      <td>1984</td>\n",
       "      <td>Threads</td>\n",
       "      <td>13.354</td>\n",
       "      <td>186</td>\n",
       "      <td>popular</td>\n",
       "      <td>Science Fiction</td>\n",
       "    </tr>\n",
       "  </tbody>\n",
       "</table>\n",
       "</div>"
      ],
      "text/plain": [
       "       Release_Date                                 Title  Popularity  \\\n",
       "25541          2021  The United States vs. Billie Holiday      13.354   \n",
       "25542          2021  The United States vs. Billie Holiday      13.354   \n",
       "25543          2021  The United States vs. Billie Holiday      13.354   \n",
       "25544          1984                               Threads      13.354   \n",
       "25545          1984                               Threads      13.354   \n",
       "25546          1984                               Threads      13.354   \n",
       "\n",
       "       Vote_Count Vote_Average            Genre  \n",
       "25541         152      average            Music  \n",
       "25542         152      average            Drama  \n",
       "25543         152      average          History  \n",
       "25544         186      popular              War  \n",
       "25545         186      popular            Drama  \n",
       "25546         186      popular  Science Fiction  "
      ]
     },
     "execution_count": 149,
     "metadata": {},
     "output_type": "execute_result"
    }
   ],
   "source": [
    "df[df['Popularity'] == df['Popularity'].min()]"
   ]
  },
  {
   "cell_type": "markdown",
   "id": "5aed8477",
   "metadata": {},
   "source": [
    "### The united states, thread' has the highest lowest rate in our datasetand it has genres of music , drama , 'war', 'sci-fi' and history`."
   ]
  },
  {
   "cell_type": "markdown",
   "id": "78df17cf",
   "metadata": {},
   "source": [
    "# Q5 Which year has most filmed year "
   ]
  },
  {
   "cell_type": "code",
   "execution_count": 150,
   "id": "0e759eeb",
   "metadata": {},
   "outputs": [
    {
     "data": {
      "image/png": "[encoded data removed]",
      "text/plain": [
       "<Figure size 640x480 with 1 Axes>"
      ]
     },
     "metadata": {},
     "output_type": "display_data"
    }
   ],
   "source": [
    "df['Release_Date'].hist()\n",
    "plt.title('Release_Date Column Distribution')\n",
    "plt.show()"
   ]
  },
  {
   "cell_type": "markdown",
   "id": "ae483234",
   "metadata": {},
   "source": [
    "### Year 2020 has the highest filmming rate in our dataset."
   ]
  }
 ],
 "metadata": {
  "kernelspec": {
   "display_name": "base",
   "language": "python",
   "name": "python3"
  },
  "language_info": {
   "codemirror_mode": {
    "name": "ipython",
    "version": 3
   },
   "file_extension": ".py",
   "mimetype": "text/x-python",
   "name": "python",
   "nbconvert_exporter": "python",
   "pygments_lexer": "ipython3",
   "version": "3.12.4"
  }
 },
 "nbformat": 4,
 "nbformat_minor": 5
}
